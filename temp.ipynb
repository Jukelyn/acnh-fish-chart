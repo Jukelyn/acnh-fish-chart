{
 "cells": [
  {
   "cell_type": "code",
   "execution_count": 26,
   "metadata": {},
   "outputs": [],
   "source": [
    "import pandas as pd\n",
    "import seaborn as sns\n",
    "import matplotlib.pyplot as plt\n",
    "from unidecode import unidecode"
   ]
  },
  {
   "cell_type": "code",
   "execution_count": 2,
   "metadata": {},
   "outputs": [
    {
     "name": "stdout",
     "output_type": "stream",
     "text": [
      "43\n",
      "['flowery painting', 'scenic painting', 'glowing painting', 'familiar statue', 'wistful painting', 'calm painting', 'tremendous statue', 'motherly statue', 'great statue', 'famous painting', 'moving painting', 'wild painting left half', 'wild painting right half', 'graceful painting', 'sinking painting', 'amazing painting', 'common painting', 'jolly painting', 'twinkling painting', 'academic painting', 'mystic statue', 'ancient statue', 'rock-head statue', 'robust statue', 'serene painting', 'gallant statue', 'proper painting', 'detailed painting', 'mysterious painting', 'valiant statue', 'scary painting', 'informative statue', 'nice painting', 'warm painting', 'moody painting', 'warrior statue', 'worthy painting', 'solemn painting', 'perfect painting', 'dynamic painting', 'beautiful statue', 'basic painting', 'quaint painting']\n"
     ]
    }
   ],
   "source": [
    "artwork = pd.read_csv(\"data/artwork_datasheet.csv\")\n",
    "artwork = list(set(artwork[\"Name\"].copy()))\n",
    "print(len(artwork))\n",
    "print(artwork)"
   ]
  },
  {
   "cell_type": "code",
   "execution_count": 3,
   "metadata": {},
   "outputs": [
    {
     "name": "stdout",
     "output_type": "stream",
     "text": [
      "rock-head statue\n"
     ]
    }
   ],
   "source": [
    "for art in artwork:\n",
    "    if '-' in art:\n",
    "        print(art)"
   ]
  },
  {
   "cell_type": "code",
   "execution_count": 9,
   "metadata": {},
   "outputs": [
    {
     "name": "stdout",
     "output_type": "stream",
     "text": [
      "['agrias butterfly', 'ant', 'Atlas moth', 'bagworm', 'banded dragonfly', 'bell cricket', 'blue weevil beetle', 'brown cicada', 'centipede', 'cicada shell', 'citrus long-horned beetle', 'common bluebottle', 'common butterfly', 'cricket', 'cyclommatus stag', 'damselfly', 'darner dragonfly', 'diving beetle', 'drone beetle', 'dung beetle', 'earth-boring dung beetle', 'emperor butterfly', 'evening cicada', 'firefly', 'flea', 'fly', 'giant cicada', 'giant stag', 'giant water bug', 'giraffe stag', 'golden stag', 'goliath beetle', 'grasshopper', 'great purple emperor', 'hermit crab', 'honeybee', 'horned atlas', 'horned dynastid', 'horned elephant', 'horned hercules', 'jewel beetle', 'ladybug', 'long locust', 'Madagascan sunset moth', 'man-faced stink bug', 'mantis', 'migratory locust', 'miyama stag', 'mole cricket', 'monarch butterfly', 'mosquito', 'moth', 'orchid mantis', 'paper kite butterfly', 'peacock butterfly', 'pill bug', 'pondskater', \"Queen Alexandra's birdwing\", 'rainbow stag', \"Rajah Brooke's birdwing\", 'red dragonfly', 'rice grasshopper', 'robust cicada', 'rosalia batesi beetle', 'saw stag', 'scarab beetle', 'scorpion', 'snail', 'spider', 'stinkbug', 'tarantula', 'tiger beetle', 'tiger butterfly', 'violin beetle', 'walker cicada', 'walking leaf', 'walking stick', 'wasp', 'wharf roach', 'yellow butterfly']\n"
     ]
    }
   ],
   "source": [
    "insects = pd.read_csv(\"data/insects_datasheet.csv\")\n",
    "insects = list(insects[\"Name\"].copy())\n",
    "print(insects)"
   ]
  },
  {
   "cell_type": "code",
   "execution_count": 10,
   "metadata": {},
   "outputs": [
    {
     "name": "stdout",
     "output_type": "stream",
     "text": [
      "queen alexandra's birdwing\n",
      "rajah brooke's birdwing\n"
     ]
    }
   ],
   "source": [
    "for insect in insects:\n",
    "    if \"'\" in insect:\n",
    "        print(insect.lower())"
   ]
  },
  {
   "cell_type": "code",
   "execution_count": 19,
   "metadata": {},
   "outputs": [
    {
     "name": "stdout",
     "output_type": "stream",
     "text": [
      "['Agent K.K.', 'Aloha K.K.', 'Animal City', 'Bubblegum K.K.', 'Café K.K.', 'Chillwave', 'Comrade K.K.', 'DJ K.K.', \"Drivin'\", 'Farewell', 'Forest Life', 'Go K.K. Rider', 'Hazure01', 'Hazure02', 'Hazure03', 'Hypno K.K.', 'I Love You', 'Imperial K.K.', 'K.K. Adventure', 'K.K. Aria', 'K.K. Ballad', 'K.K. Bashment', 'K.K. Bazaar', 'K.K. Birthday', 'K.K. Blues', 'K.K. Bossa', 'K.K. Break', 'K.K. Calypso', 'K.K. Casbah', 'K.K. Chorale', 'K.K. Chorinho', 'K.K. Condor', 'K.K. Country', \"K.K. Cruisin'\", 'K.K. D&B', 'K.K. Dirge', 'K.K. Disco', 'K.K. Dixie', 'K.K. Dub', 'K.K. Étude', 'K.K. Faire', 'K.K. Flamenco', 'K.K. Folk', 'K.K. Fugue', 'K.K. Fusion', 'K.K. Groove', 'K.K. Gumbo', 'K.K. Hop', 'K.K. House', 'K.K. Island', 'K.K. Jazz', 'K.K. Jongara', 'K.K. Khoomei', 'K.K. Lament', 'K.K. Love Song', 'K.K. Lovers', 'K.K. Lullaby', 'K.K. Mambo', 'K.K. Marathon', 'K.K. March', 'K.K. Mariachi', 'K.K. Metal', 'K.K. Milonga', 'K.K. Moody', 'K.K. Oasis', 'K.K. Parade', 'K.K. Polka', 'K.K. Ragtime', 'K.K. Rally', 'K.K. Reggae', 'K.K. Robot Synth', 'K.K. Rock', 'K.K. Rockabilly', 'K.K. Safari', 'K.K. Salsa', 'K.K. Samba', 'K.K. Ska', 'K.K. Slack-Key', 'K.K. Sonata', 'K.K. Song', 'K.K. Soul', 'K.K. Steppe', 'K.K. Stroll', 'K.K. Swing', 'K.K. Synth', 'K.K. Tango', 'K.K. Technopop', 'K.K. Waltz', 'K.K. Western', 'King K.K.', 'Lucky K.K.', 'Marine Song 2001', 'Mountain Song', 'Mr. K.K.', 'My Place', 'Neapolitan', 'Only Me', 'Pondering', \"Rockin' K.K.\", 'Soulful K.K.', 'Space K.K.', 'Spring Blossoms', 'Stale Cupcakes', 'Steep Hill', \"Surfin' K.K.\", 'The K. Funk', 'To the Edge', 'Two Days Ago', 'Wandering', 'Welcome Horizons']\n"
     ]
    }
   ],
   "source": [
    "# cafe_kk\n",
    "music = pd.read_csv(\"data/music_datasheet.csv\")\n",
    "music = list(music[\"Name\"].copy())\n",
    "print(music)"
   ]
  },
  {
   "cell_type": "code",
   "execution_count": 53,
   "metadata": {},
   "outputs": [
    {
     "name": "stdout",
     "output_type": "stream",
     "text": [
      "['agent k.k.', 'aloha k.k.', 'animal city', 'bubblegum k.k.', 'cafe k.k.', 'chillwave', 'comrade k.k.', 'dj k.k.', 'drivin', 'farewell', 'forest life', 'go k.k. rider', 'hazure01', 'hazure02', 'hazure03', 'hypno k.k.', 'i love you', 'imperial k.k.', 'k.k. adventure', 'k.k. aria', 'k.k. ballad', 'k.k. bashment', 'k.k. bazaar', 'k.k. birthday', 'k.k. blues', 'k.k. bossa', 'k.k. break', 'k.k. calypso', 'k.k. casbah', 'k.k. chorale', 'k.k. chorinho', 'k.k. condor', 'k.k. country', 'k.k. cruisin', 'k.k. d&b', 'k.k. dirge', 'k.k. disco', 'k.k. dixie', 'k.k. dub', 'k.k. etude', 'k.k. faire', 'k.k. flamenco', 'k.k. folk', 'k.k. fugue', 'k.k. fusion', 'k.k. groove', 'k.k. gumbo', 'k.k. hop', 'k.k. house', 'k.k. island', 'k.k. jazz', 'k.k. jongara', 'k.k. khoomei', 'k.k. lament', 'k.k. love song', 'k.k. lovers', 'k.k. lullaby', 'k.k. mambo', 'k.k. marathon', 'k.k. march', 'k.k. mariachi', 'k.k. metal', 'k.k. milonga', 'k.k. moody', 'k.k. oasis', 'k.k. parade', 'k.k. polka', 'k.k. ragtime', 'k.k. rally', 'k.k. reggae', 'k.k. robot synth', 'k.k. rock', 'k.k. rockabilly', 'k.k. safari', 'k.k. salsa', 'k.k. samba', 'k.k. ska', 'k.k. slack-key', 'k.k. sonata', 'k.k. song', 'k.k. soul', 'k.k. steppe', 'k.k. stroll', 'k.k. swing', 'k.k. synth', 'k.k. tango', 'k.k. technopop', 'k.k. waltz', 'k.k. western', 'king k.k.', 'lucky k.k.', 'marine song 2001', 'mountain song', 'mr. k.k.', 'my place', 'neapolitan', 'only me', 'pondering', 'rockin k.k.', 'soulful k.k.', 'space k.k.', 'spring blossoms', 'stale cupcakes', 'steep hill', 'surfin k.k.', 'the k. funk', 'to the edge', 'two days ago', 'wandering', 'welcome horizons']\n"
     ]
    }
   ],
   "source": [
    "find_these_songs = [\n",
    "    'cafe_kk',\n",
    "    'kk_etude',\n",
    "    'lucky_kk',\n",
    "    'kk_stroll',\n",
    "    'kk_synth',\n",
    "    'surfin_kk',\n",
    "    'rockin_kk',\n",
    "    'kk_cruisin',\n",
    "    'drivin'\n",
    "]\n",
    "\n",
    "find_these_songs = [item.replace('_', ' ').replace('kk', 'k.k.') for item in find_these_songs]\n",
    "music = [unidecode(song.lower()).replace(\"'\", \"\") for song in music]\n",
    "print(music)"
   ]
  },
  {
   "cell_type": "code",
   "execution_count": 54,
   "metadata": {},
   "outputs": [
    {
     "name": "stdout",
     "output_type": "stream",
     "text": [
      "['cafe k.k.', 'k.k. etude', 'lucky k.k.', 'k.k. stroll', 'k.k. synth', 'surfin k.k.', 'rockin k.k.', 'k.k. cruisin', 'drivin']\n"
     ]
    }
   ],
   "source": [
    "print(find_these_songs)"
   ]
  },
  {
   "cell_type": "code",
   "execution_count": 55,
   "metadata": {},
   "outputs": [
    {
     "name": "stdout",
     "output_type": "stream",
     "text": [
      "True\n"
     ]
    }
   ],
   "source": [
    "found = []\n",
    "for song in find_these_songs:\n",
    "    if song in music:\n",
    "        found.append(song)\n",
    "\n",
    "print(len(found) == len(find_these_songs))"
   ]
  },
  {
   "cell_type": "code",
   "execution_count": null,
   "metadata": {},
   "outputs": [],
   "source": []
  }
 ],
 "metadata": {
  "kernelspec": {
   "display_name": "venv",
   "language": "python",
   "name": "python3"
  },
  "language_info": {
   "codemirror_mode": {
    "name": "ipython",
    "version": 3
   },
   "file_extension": ".py",
   "mimetype": "text/x-python",
   "name": "python",
   "nbconvert_exporter": "python",
   "pygments_lexer": "ipython3",
   "version": "3.13.1"
  }
 },
 "nbformat": 4,
 "nbformat_minor": 2
}
